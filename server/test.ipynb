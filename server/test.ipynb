{
 "cells": [
  {
   "cell_type": "code",
   "execution_count": 9,
   "metadata": {},
   "outputs": [
    {
     "name": "stdout",
     "output_type": "stream",
     "text": [
      "Response: {'legal_document': 'PARTNERSHIP DISCUSSION SUMMARY\\n\\nThis Partnership Discussion Summary (\"the Summary\") is made between Sarah, hereinafter referred to as the \"Investor,\" and Alex, hereinafter referred to as the \"Potential Partner,\" on this [Date] (the \"Effective Date\").\\n\\nWHEREAS, the Investor and the Potential Partner have engaged in a call to discuss the possibility of entering into a partnership agreement;\\n\\nWHEREAS, during the discussion, the Potential Partner presented a compelling pitch and business plan that impressed the Investor;\\n\\nWHEREAS, the Investor and the Potential Partner have discussed the terms of the investment, including a proposed investment amount of $2 million in exchange for a 20% equity stake in the Potential Partner\\'s business;\\n\\nWHEREAS, the Investor has offered strategic support to the Potential Partner, including access to a network of industry experts, mentors, and advisors;\\n\\nWHEREAS, the Investor has mentioned that there will be standard terms and conditions associated with the investment;\\n\\nWHEREAS, the Investor and the Potential Partner have discussed the expected timeline for closing the deal and the need for due diligence and legal review;\\n\\nWHEREAS, the Potential Partner has expressed interest in the strategic support offered by the Investor and has accepted the Investor\\'s investment offer;\\n\\nWHEREAS, the Investor has informed the Potential Partner that the Investor\\'s legal team will prepare a term sheet and initiate the due diligence process;\\n\\nNOW, THEREFORE, the Investor and the Potential Partner hereby agree as follows:\\n\\n1. Investment Amount and Equity Stake: The Potential Partner agrees to accept a $2 million investment from the Investor in exchange for a 20% equity stake in the Potential Partner\\'s business. The terms and conditions of this investment shall be further detailed in a term sheet to be prepared by the Investor\\'s legal team.\\n\\n2. Strategic Support: The Investor shall provide strategic support to the Potential Partner through a network of industry experts, mentors, and advisors. The specific details and scope of this strategic support shall be outlined in a separate agreement to be entered into between the Investor and the Potential Partner.\\n\\n3. Standard Terms and Conditions: The Investor has informed the Potential Partner that there will be standard terms and conditions associated with the investment. These terms and conditions shall be included in the term sheet prepared by the Investor\\'s legal team.\\n\\n4. Timeline and Due Diligence: The Investor and the Potential Partner acknowledge the importance of due diligence and legal review in the process of closing the deal. The Investor\\'s legal team shall initiate the due diligence process, and both parties shall cooperate fully to facilitate a timely closure of the deal.\\n\\n5. Confidentiality: Both parties acknowledge that the information shared during the partnership discussions is confidential and shall be treated as such. Neither party shall disclose or use such information for any purpose other than evaluating and pursuing the potential partnership.\\n\\n6. Entire Agreement: This Summary constitutes the entire agreement between the Investor and the Potential Partner and supersedes all prior discussions and understandings, whether written or oral, relating to the subject matter herein.\\n\\n7. Governing Law and Jurisdiction: This Summary shall be governed by and construed in accordance with the laws of [Jurisdiction]. Any disputes arising out of or in connection with this Summary shall be submitted to the exclusive jurisdiction of the courts of [Jurisdiction].\\n\\nIN WITNESS WHEREOF, the Investor and the Potential Partner have executed this Partnership Discussion Summary as of the Effective Date.\\n\\nInvestor:\\n[Investor\\'s Name]\\n[Investor\\'s Title]\\n\\nPotential Partner:\\n[Alex\\'s Name]\\n[Alex\\'s Title]', 'summary': \"Sarah and Alex have a call discussing a potential partnership. Sarah is impressed with Alex's pitch and business plan. They discuss the terms of the investment, which includes a $2 million investment for a 20% equity stake and strategic support. Sarah mentions that there will be standard terms and conditions associated with the investment. They also discuss the expected timeline for closing the deal and the need for due diligence and legal review. Sarah explains that her firm can provide strategic support through a network of industry experts, mentors, and advisors. Alex is interested in the support and agrees to the offer. Sarah mentions that the legal team will prepare a term sheet and initiate the due diligence process. They end the call with excitement about the potential partnership.\"}\n"
     ]
    }
   ],
   "source": [
    "import requests\n",
    "import json\n",
    "\n",
    "# API URL\n",
    "# api_url =  \"http://localhost:8080/api/summarize\" #local\n",
    "api_url =  \"https://dropbox-backend.onrender.co/api/summarize\" #deployed\n",
    "\n",
    "# Input Payload\n",
    "payload = {\n",
    "    \"transcript\": \"Sarah: Hello Alex, it's great to have you on the call today. I hope you're doing well.\" \\\n",
    "\n",
    "\"Alex: Hi Sarah, thank you. I'm doing well, and I appreciate you taking the time to speak with us today.\" \\\n",
    "\n",
    "\"Sarah: Of course, Alex. We've thoroughly reviewed your pitch and business plan, and I have to say, we're impressed with what you've built so far. Your team and your product have a lot of potential. Before we proceed, is there anything you'd like to discuss or any questions you have? \"\\\n",
    "\n",
    "\"Alex: Thank you, Sarah. We're excited about the opportunity to partner with your firm. I do have a few questions, but let's first discuss the terms you're proposing for the investment. \"\\\n",
    "\n",
    "\"Sarah: Certainly, Alex. We're prepared to offer a $2 million investment for a 20% equity stake in your company. We'll also provide strategic guidance and support as part of the deal. How does that sound to you? \"\\\n",
    "\n",
    "\"Alex: That's in line with what we were hoping for. The strategic support is also important to us. I assume there are standard terms and conditions associated with the investment? \"\\\n",
    "\n",
    "\"Sarah: Yes, Alex. We'll provide you with a term sheet outlining the specifics, including any rights and obligations. It will also cover the board seat and voting rights. We aim to be a value-add investor, so our terms are designed to align our interests with yours. \"\\\n",
    "\n",
    "\"Alex: That sounds reasonable. What's the expected timeline for this deal, and are there any contingencies we should be aware of? \"\\\n",
    "\n",
    "\"Sarah: We're aiming to close this deal within the next four weeks, pending due diligence and legal review. Our due diligence team will need access to your financials and contracts, and we'll require a clean bill of health from our legal team. Assuming everything checks out, we should be able to meet that timeline. \"\\\n",
    "\n",
    "\"Alex: Understood. We're committed to providing all the necessary information promptly. Can you also provide more details about the strategic support your firm can offer? \"\\\n",
    "\n",
    "\"Sarah: Absolutely, Alex. We have a network of industry experts, mentors, and advisors who can assist with everything from product development to marketing and scaling. We'll work closely with your team to identify areas where our expertise can be most beneficial. \"\\\n",
    "\n",
    "\"Alex: That's great to hear. We value the mentorship and guidance just as much as the funding. We're on board with your offer and are eager to move forward. \"\\\n",
    "\n",
    "\"Sarah: Excellent, Alex. We're excited to partner with you as well. We'll have our legal team prepare the term sheet and send it to you within the next few days. Once we have that signed, we can initiate the due diligence process. \"\\\n",
    "\n",
    "\"Alex: Sounds like a plan, Sarah. Thank you for your time today, and we look forward to a successful partnership. \"\\\n",
    "\n",
    "\"Sarah: Thank you, Alex. We'll be in touch soon with the term sheet, and if you have any questions in the meantime, please don't hesitate to reach out.\"\n",
    "}\n",
    "\n",
    "# Send POST request\n",
    "response = requests.post(api_url, data=json.dumps(payload), headers={'Content-Type': 'application/json'})\n",
    "\n",
    "# Check response\n",
    "if response.status_code == 200:\n",
    "    print(\"Response:\", response.json())\n",
    "else:\n",
    "    print(\"Failed to get response:\", response.status_code, response.text)\n"
   ]
  },
  {
   "cell_type": "code",
   "execution_count": 13,
   "metadata": {},
   "outputs": [],
   "source": [
    "myjson = json.loads(response.text)"
   ]
  },
  {
   "cell_type": "code",
   "execution_count": 15,
   "metadata": {},
   "outputs": [
    {
     "data": {
      "text/plain": [
       "{'legal_document': 'PARTNERSHIP DISCUSSION SUMMARY\\n\\nThis Partnership Discussion Summary (\"the Summary\") is made between Sarah, hereinafter referred to as the \"Investor,\" and Alex, hereinafter referred to as the \"Potential Partner,\" on this [Date] (the \"Effective Date\").\\n\\nWHEREAS, the Investor and the Potential Partner have engaged in a call to discuss the possibility of entering into a partnership agreement;\\n\\nWHEREAS, during the discussion, the Potential Partner presented a compelling pitch and business plan that impressed the Investor;\\n\\nWHEREAS, the Investor and the Potential Partner have discussed the terms of the investment, including a proposed investment amount of $2 million in exchange for a 20% equity stake in the Potential Partner\\'s business;\\n\\nWHEREAS, the Investor has offered strategic support to the Potential Partner, including access to a network of industry experts, mentors, and advisors;\\n\\nWHEREAS, the Investor has mentioned that there will be standard terms and conditions associated with the investment;\\n\\nWHEREAS, the Investor and the Potential Partner have discussed the expected timeline for closing the deal and the need for due diligence and legal review;\\n\\nWHEREAS, the Potential Partner has expressed interest in the strategic support offered by the Investor and has accepted the Investor\\'s investment offer;\\n\\nWHEREAS, the Investor has informed the Potential Partner that the Investor\\'s legal team will prepare a term sheet and initiate the due diligence process;\\n\\nNOW, THEREFORE, the Investor and the Potential Partner hereby agree as follows:\\n\\n1. Investment Amount and Equity Stake: The Potential Partner agrees to accept a $2 million investment from the Investor in exchange for a 20% equity stake in the Potential Partner\\'s business. The terms and conditions of this investment shall be further detailed in a term sheet to be prepared by the Investor\\'s legal team.\\n\\n2. Strategic Support: The Investor shall provide strategic support to the Potential Partner through a network of industry experts, mentors, and advisors. The specific details and scope of this strategic support shall be outlined in a separate agreement to be entered into between the Investor and the Potential Partner.\\n\\n3. Standard Terms and Conditions: The Investor has informed the Potential Partner that there will be standard terms and conditions associated with the investment. These terms and conditions shall be included in the term sheet prepared by the Investor\\'s legal team.\\n\\n4. Timeline and Due Diligence: The Investor and the Potential Partner acknowledge the importance of due diligence and legal review in the process of closing the deal. The Investor\\'s legal team shall initiate the due diligence process, and both parties shall cooperate fully to facilitate a timely closure of the deal.\\n\\n5. Confidentiality: Both parties acknowledge that the information shared during the partnership discussions is confidential and shall be treated as such. Neither party shall disclose or use such information for any purpose other than evaluating and pursuing the potential partnership.\\n\\n6. Entire Agreement: This Summary constitutes the entire agreement between the Investor and the Potential Partner and supersedes all prior discussions and understandings, whether written or oral, relating to the subject matter herein.\\n\\n7. Governing Law and Jurisdiction: This Summary shall be governed by and construed in accordance with the laws of [Jurisdiction]. Any disputes arising out of or in connection with this Summary shall be submitted to the exclusive jurisdiction of the courts of [Jurisdiction].\\n\\nIN WITNESS WHEREOF, the Investor and the Potential Partner have executed this Partnership Discussion Summary as of the Effective Date.\\n\\nInvestor:\\n[Investor\\'s Name]\\n[Investor\\'s Title]\\n\\nPotential Partner:\\n[Alex\\'s Name]\\n[Alex\\'s Title]',\n",
       " 'summary': \"Sarah and Alex have a call discussing a potential partnership. Sarah is impressed with Alex's pitch and business plan. They discuss the terms of the investment, which includes a $2 million investment for a 20% equity stake and strategic support. Sarah mentions that there will be standard terms and conditions associated with the investment. They also discuss the expected timeline for closing the deal and the need for due diligence and legal review. Sarah explains that her firm can provide strategic support through a network of industry experts, mentors, and advisors. Alex is interested in the support and agrees to the offer. Sarah mentions that the legal team will prepare a term sheet and initiate the due diligence process. They end the call with excitement about the potential partnership.\"}"
      ]
     },
     "execution_count": 15,
     "metadata": {},
     "output_type": "execute_result"
    }
   ],
   "source": [
    "myjson"
   ]
  },
  {
   "cell_type": "code",
   "execution_count": 16,
   "metadata": {},
   "outputs": [
    {
     "data": {
      "text/plain": [
       "'PARTNERSHIP DISCUSSION SUMMARY\\n\\nThis Partnership Discussion Summary (\"the Summary\") is made between Sarah, hereinafter referred to as the \"Investor,\" and Alex, hereinafter referred to as the \"Potential Partner,\" on this [Date] (the \"Effective Date\").\\n\\nWHEREAS, the Investor and the Potential Partner have engaged in a call to discuss the possibility of entering into a partnership agreement;\\n\\nWHEREAS, during the discussion, the Potential Partner presented a compelling pitch and business plan that impressed the Investor;\\n\\nWHEREAS, the Investor and the Potential Partner have discussed the terms of the investment, including a proposed investment amount of $2 million in exchange for a 20% equity stake in the Potential Partner\\'s business;\\n\\nWHEREAS, the Investor has offered strategic support to the Potential Partner, including access to a network of industry experts, mentors, and advisors;\\n\\nWHEREAS, the Investor has mentioned that there will be standard terms and conditions associated with the investment;\\n\\nWHEREAS, the Investor and the Potential Partner have discussed the expected timeline for closing the deal and the need for due diligence and legal review;\\n\\nWHEREAS, the Potential Partner has expressed interest in the strategic support offered by the Investor and has accepted the Investor\\'s investment offer;\\n\\nWHEREAS, the Investor has informed the Potential Partner that the Investor\\'s legal team will prepare a term sheet and initiate the due diligence process;\\n\\nNOW, THEREFORE, the Investor and the Potential Partner hereby agree as follows:\\n\\n1. Investment Amount and Equity Stake: The Potential Partner agrees to accept a $2 million investment from the Investor in exchange for a 20% equity stake in the Potential Partner\\'s business. The terms and conditions of this investment shall be further detailed in a term sheet to be prepared by the Investor\\'s legal team.\\n\\n2. Strategic Support: The Investor shall provide strategic support to the Potential Partner through a network of industry experts, mentors, and advisors. The specific details and scope of this strategic support shall be outlined in a separate agreement to be entered into between the Investor and the Potential Partner.\\n\\n3. Standard Terms and Conditions: The Investor has informed the Potential Partner that there will be standard terms and conditions associated with the investment. These terms and conditions shall be included in the term sheet prepared by the Investor\\'s legal team.\\n\\n4. Timeline and Due Diligence: The Investor and the Potential Partner acknowledge the importance of due diligence and legal review in the process of closing the deal. The Investor\\'s legal team shall initiate the due diligence process, and both parties shall cooperate fully to facilitate a timely closure of the deal.\\n\\n5. Confidentiality: Both parties acknowledge that the information shared during the partnership discussions is confidential and shall be treated as such. Neither party shall disclose or use such information for any purpose other than evaluating and pursuing the potential partnership.\\n\\n6. Entire Agreement: This Summary constitutes the entire agreement between the Investor and the Potential Partner and supersedes all prior discussions and understandings, whether written or oral, relating to the subject matter herein.\\n\\n7. Governing Law and Jurisdiction: This Summary shall be governed by and construed in accordance with the laws of [Jurisdiction]. Any disputes arising out of or in connection with this Summary shall be submitted to the exclusive jurisdiction of the courts of [Jurisdiction].\\n\\nIN WITNESS WHEREOF, the Investor and the Potential Partner have executed this Partnership Discussion Summary as of the Effective Date.\\n\\nInvestor:\\n[Investor\\'s Name]\\n[Investor\\'s Title]\\n\\nPotential Partner:\\n[Alex\\'s Name]\\n[Alex\\'s Title]'"
      ]
     },
     "execution_count": 16,
     "metadata": {},
     "output_type": "execute_result"
    }
   ],
   "source": [
    "myjson['legal_document']"
   ]
  },
  {
   "cell_type": "code",
   "execution_count": 17,
   "metadata": {},
   "outputs": [],
   "source": [
    "from fpdf import FPDF\n",
    "\n",
    "def save_to_pdf(text, filename):\n",
    "    pdf = FPDF()\n",
    "    pdf.add_page()\n",
    "    pdf.set_font(\"Arial\", size=12)\n",
    "    pdf.multi_cell(0, 10, text)\n",
    "    pdf.output(filename)\n"
   ]
  },
  {
   "cell_type": "code",
   "execution_count": 19,
   "metadata": {},
   "outputs": [],
   "source": [
    "save_to_pdf(myjson['legal_document'], \"legal_document.pdf\")\n"
   ]
  },
  {
   "cell_type": "code",
   "execution_count": null,
   "metadata": {},
   "outputs": [],
   "source": []
  }
 ],
 "metadata": {
  "kernelspec": {
   "display_name": "Python 3",
   "language": "python",
   "name": "python3"
  },
  "language_info": {
   "codemirror_mode": {
    "name": "ipython",
    "version": 3
   },
   "file_extension": ".py",
   "mimetype": "text/x-python",
   "name": "python",
   "nbconvert_exporter": "python",
   "pygments_lexer": "ipython3",
   "version": "3.9.6"
  }
 },
 "nbformat": 4,
 "nbformat_minor": 2
}
