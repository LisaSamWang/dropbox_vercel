{
 "cells": [
  {
   "cell_type": "code",
   "execution_count": 2,
   "metadata": {},
   "outputs": [
    {
     "name": "stdout",
     "output_type": "stream",
     "text": [
      "Response: {'responses': '', 'summary': ''}\n"
     ]
    }
   ],
   "source": [
    "import requests\n",
    "import json\n",
    "\n",
    "# API URL\n",
    "api_url =  \"http://localhost:8080/api/summarize\"\n",
    "\n",
    "# Input Payload\n",
    "payload = {\n",
    "    \"transcript\": \"Sarah: Hello Alex, it's great to have you on the call today. I hope you're doing well.\" \\\n",
    "\n",
    "\"Alex: Hi Sarah, thank you. I'm doing well, and I appreciate you taking the time to speak with us today.\" \\\n",
    "\n",
    "\"Sarah: Of course, Alex. We've thoroughly reviewed your pitch and business plan, and I have to say, we're impressed with what you've built so far. Your team and your product have a lot of potential. Before we proceed, is there anything you'd like to discuss or any questions you have? \"\\\n",
    "\n",
    "\"Alex: Thank you, Sarah. We're excited about the opportunity to partner with your firm. I do have a few questions, but let's first discuss the terms you're proposing for the investment. \"\\\n",
    "\n",
    "\"Sarah: Certainly, Alex. We're prepared to offer a $2 million investment for a 20% equity stake in your company. We'll also provide strategic guidance and support as part of the deal. How does that sound to you? \"\\\n",
    "\n",
    "\"Alex: That's in line with what we were hoping for. The strategic support is also important to us. I assume there are standard terms and conditions associated with the investment? \"\\\n",
    "\n",
    "\"Sarah: Yes, Alex. We'll provide you with a term sheet outlining the specifics, including any rights and obligations. It will also cover the board seat and voting rights. We aim to be a value-add investor, so our terms are designed to align our interests with yours. \"\\\n",
    "\n",
    "\"Alex: That sounds reasonable. What's the expected timeline for this deal, and are there any contingencies we should be aware of? \"\\\n",
    "\n",
    "\"Sarah: We're aiming to close this deal within the next four weeks, pending due diligence and legal review. Our due diligence team will need access to your financials and contracts, and we'll require a clean bill of health from our legal team. Assuming everything checks out, we should be able to meet that timeline. \"\\\n",
    "\n",
    "\"Alex: Understood. We're committed to providing all the necessary information promptly. Can you also provide more details about the strategic support your firm can offer? \"\\\n",
    "\n",
    "\"Sarah: Absolutely, Alex. We have a network of industry experts, mentors, and advisors who can assist with everything from product development to marketing and scaling. We'll work closely with your team to identify areas where our expertise can be most beneficial. \"\\\n",
    "\n",
    "\"Alex: That's great to hear. We value the mentorship and guidance just as much as the funding. We're on board with your offer and are eager to move forward. \"\\\n",
    "\n",
    "\"Sarah: Excellent, Alex. We're excited to partner with you as well. We'll have our legal team prepare the term sheet and send it to you within the next few days. Once we have that signed, we can initiate the due diligence process. \"\\\n",
    "\n",
    "\"Alex: Sounds like a plan, Sarah. Thank you for your time today, and we look forward to a successful partnership. \"\\\n",
    "\n",
    "\"Sarah: Thank you, Alex. We'll be in touch soon with the term sheet, and if you have any questions in the meantime, please don't hesitate to reach out.\"\n",
    "}\n",
    "\n",
    "# Send POST request\n",
    "response = requests.post(api_url, data=json.dumps(payload), headers={'Content-Type': 'application/json'})\n",
    "\n",
    "# Check response\n",
    "if response.status_code == 200:\n",
    "    print(\"Response:\", response.json())\n",
    "else:\n",
    "    print(\"Failed to get response:\", response.status_code, response.text)\n"
   ]
  },
  {
   "cell_type": "code",
   "execution_count": null,
   "metadata": {},
   "outputs": [],
   "source": []
  }
 ],
 "metadata": {
  "kernelspec": {
   "display_name": "Python 3",
   "language": "python",
   "name": "python3"
  },
  "language_info": {
   "codemirror_mode": {
    "name": "ipython",
    "version": 3
   },
   "file_extension": ".py",
   "mimetype": "text/x-python",
   "name": "python",
   "nbconvert_exporter": "python",
   "pygments_lexer": "ipython3",
   "version": "3.9.6"
  }
 },
 "nbformat": 4,
 "nbformat_minor": 2
}
