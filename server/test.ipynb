{
 "cells": [
  {
   "cell_type": "code",
   "execution_count": 9,
   "metadata": {},
   "outputs": [
    {
     "name": "stdout",
     "output_type": "stream",
     "text": [
      "Response: {'legal_document': 'INVESTMENT AGREEMENT\\n\\nThis Investment Agreement (the \"Agreement\") is made and entered into on this [Date] (the \"Effective Date\") by and between Sarah, residing at [Address], and Alex, residing at [Address] (collectively referred to as the \"Parties\").\\n\\nWHEREAS, Sarah and Alex have engaged in discussions regarding a potential investment in Alex\\'s company;\\n\\nWHEREAS, Sarah is impressed with Alex\\'s pitch and business plan and wishes to invest a sum of $2 million in Alex\\'s company in exchange for a 20% equity stake;\\n\\nWHEREAS, Alex is satisfied with the proposed terms and conditions of the investment, which include strategic guidance and support;\\n\\nWHEREAS, Sarah has explained that the completion of the investment is subject to due diligence and legal review, with the aim of closing the deal within four weeks from the Effective Date;\\n\\nWHEREAS, Sarah has further mentioned that her firm will provide strategic support, including access to industry experts, mentors, and advisors;\\n\\nWHEREAS, Alex agrees to the terms and conditions set forth by Sarah and expresses enthusiasm about moving forward with the investment;\\n\\nNOW, THEREFORE, in consideration of the premises and mutual covenants contained herein, the Parties agree as follows:\\n\\n1. Investment Amount and Equity Stake:\\n   Sarah shall invest a sum of $2 million in Alex\\'s company in exchange for a 20% equity stake. The Parties acknowledge that this investment includes strategic guidance and support as outlined in the discussions held.\\n\\n2. Timeline and Contingencies:\\n   The Parties agree to aim for the completion of the investment within four weeks from the Effective Date, subject to due diligence and legal review. If any contingencies arise during the due diligence process that significantly affect the investment, both Parties shall engage in good-faith discussions to determine appropriate actions.\\n\\n3. Strategic Support:\\n   Sarah\\'s firm shall provide strategic support to Alex\\'s company, including access to industry experts, mentors, and advisors. The specifics of this support shall be detailed in a separate agreement, to be drafted and executed promptly after the signing of this Agreement.\\n\\n4. Execution of Term Sheet and Due Diligence:\\n   Sarah agrees to send a term sheet to Alex, outlining the terms and conditions of the investment. Once the term sheet is signed by both Parties, the due diligence process shall commence, as per the agreed timeline.\\n\\n5. Governing Law and Jurisdiction:\\n   This Agreement shall be governed by and construed in accordance with the laws of [Jurisdiction]. Any disputes arising under or in connection with this Agreement shall be subject to the exclusive jurisdiction of the courts of [Jurisdiction].\\n\\n6. Entire Agreement:\\n   This Agreement constitutes the entire understanding between the Parties and supersedes all prior negotiations, understandings, and agreements, whether oral or written, relating to the subject matter hereof.\\n\\nIN WITNESS WHEREOF, the Parties hereto have executed this Investment Agreement as of the Effective Date.\\n\\n______________________             ______________________\\nSarah                                                       Alex', 'summary': \"Sarah and Alex have a conversation about the terms of a potential investment. Sarah is impressed with Alex's pitch and business plan and offers a $2 million investment for a 20% equity stake in Alex's company. The investment includes strategic guidance and support. Alex is satisfied with the terms and asks about the timeline and contingencies. Sarah explains that they aim to close the deal within four weeks pending due diligence and legal review. Sarah also mentions the strategic support offered by her firm, including access to industry experts, mentors, and advisors. Alex agrees to the offer and looks forward to moving forward. Sarah says the term sheet will be sent soon, and once signed, the due diligence process will begin. They end the conversation on a positive note, expressing excitement about the partnership.\"}\n"
     ]
    }
   ],
   "source": [
    "import requests\n",
    "import json\n",
    "\n",
    "# API URL\n",
    "api_url =  \"http://localhost:8080/api/summarize\" #local\n",
    "# api_url =  \"https://dropbox-backend.onrender.com/api/summarize\" #deployed\n",
    "\n",
    "# Input Payload\n",
    "payload = {\n",
    "    \"transcript\": \"Sarah: Hello Alex, it's great to have you on the call today. I hope you're doing well.\" \\\n",
    "\n",
    "\"Alex: Hi Sarah, thank you. I'm doing well, and I appreciate you taking the time to speak with us today.\" \\\n",
    "\n",
    "\"Sarah: Of course, Alex. We've thoroughly reviewed your pitch and business plan, and I have to say, we're impressed with what you've built so far. Your team and your product have a lot of potential. Before we proceed, is there anything you'd like to discuss or any questions you have? \"\\\n",
    "\n",
    "\"Alex: Thank you, Sarah. We're excited about the opportunity to partner with your firm. I do have a few questions, but let's first discuss the terms you're proposing for the investment. \"\\\n",
    "\n",
    "\"Sarah: Certainly, Alex. We're prepared to offer a $2 million investment for a 20% equity stake in your company. We'll also provide strategic guidance and support as part of the deal. How does that sound to you? \"\\\n",
    "\n",
    "\"Alex: That's in line with what we were hoping for. The strategic support is also important to us. I assume there are standard terms and conditions associated with the investment? \"\\\n",
    "\n",
    "\"Sarah: Yes, Alex. We'll provide you with a term sheet outlining the specifics, including any rights and obligations. It will also cover the board seat and voting rights. We aim to be a value-add investor, so our terms are designed to align our interests with yours. \"\\\n",
    "\n",
    "\"Alex: That sounds reasonable. What's the expected timeline for this deal, and are there any contingencies we should be aware of? \"\\\n",
    "\n",
    "\"Sarah: We're aiming to close this deal within the next four weeks, pending due diligence and legal review. Our due diligence team will need access to your financials and contracts, and we'll require a clean bill of health from our legal team. Assuming everything checks out, we should be able to meet that timeline. \"\\\n",
    "\n",
    "\"Alex: Understood. We're committed to providing all the necessary information promptly. Can you also provide more details about the strategic support your firm can offer? \"\\\n",
    "\n",
    "\"Sarah: Absolutely, Alex. We have a network of industry experts, mentors, and advisors who can assist with everything from product development to marketing and scaling. We'll work closely with your team to identify areas where our expertise can be most beneficial. \"\\\n",
    "\n",
    "\"Alex: That's great to hear. We value the mentorship and guidance just as much as the funding. We're on board with your offer and are eager to move forward. \"\\\n",
    "\n",
    "\"Sarah: Excellent, Alex. We're excited to partner with you as well. We'll have our legal team prepare the term sheet and send it to you within the next few days. Once we have that signed, we can initiate the due diligence process. \"\\\n",
    "\n",
    "\"Alex: Sounds like a plan, Sarah. Thank you for your time today, and we look forward to a successful partnership. \"\\\n",
    "\n",
    "\"Sarah: Thank you, Alex. We'll be in touch soon with the term sheet, and if you have any questions in the meantime, please don't hesitate to reach out.\"\n",
    "}\n",
    "\n",
    "# Send POST request\n",
    "response = requests.post(api_url, data=json.dumps(payload), headers={'Content-Type': 'application/json'})\n",
    "\n",
    "# Check response\n",
    "if response.status_code == 200:\n",
    "    print(\"Response:\", response.json())\n",
    "else:\n",
    "    print(\"Failed to get response:\", response.status_code, response.text)\n"
   ]
  },
  {
   "cell_type": "code",
   "execution_count": 2,
   "metadata": {},
   "outputs": [],
   "source": [
    "myjson = json.loads(response.text)"
   ]
  },
  {
   "cell_type": "code",
   "execution_count": 3,
   "metadata": {},
   "outputs": [
    {
     "data": {
      "text/plain": [
       "{'legal_document': \"[Your Name]\\n[Your Address]\\n[City, State, ZIP]\\n[Email Address]\\n[Phone Number]\\n[Date]\\n\\n[Recipient's Name]\\n[Recipient's Address]\\n[City, State, ZIP]\\n\\nSubject: Partnership Investment Agreement\\n\\nDear [Recipient's Name],\\n\\nI hope this letter finds you well. This correspondence serves as an agreement between you, [Alex's Name], and [Sarah's Name], representing [Sarah's Firm], with regard to our potential partnership.\\n\\nFollowing our recent call, during which we discussed your impressive pitch and business plan, we have reached a mutual understanding regarding the terms of the investment and the nature of the partnership. This agreement outlines the key points we discussed and serves as a foundation for our future collaboration.\\n\\n1. Investment:\\nYou have proposed an investment of $2 million, which shall entitle you to a 20% equity stake in the company. This investment will be made in accordance with the terms and conditions set forth in a separate investment agreement, to be prepared by our respective legal teams.\\n\\n2. Strategic Support:\\nIn addition to the financial investment, we have agreed that [Sarah's Firm] shall provide strategic support to your company. This support will be facilitated through our extensive network of industry experts, who will offer their guidance and expertise to assist in the growth and development of your business.\\n\\n3. Timeline and Due Diligence:\\nWe discussed the importance of conducting due diligence and undergoing a comprehensive legal review before finalizing this partnership. To ensure a smooth transition and to address any potential concerns, we agree to proceed with the necessary due diligence procedures promptly. The timeline for this process will be determined in consultation with our respective legal teams.\\n\\n4. Term Sheet:\\nAs discussed, [Sarah's Firm] will prepare a term sheet that outlines the key terms and conditions of our partnership agreement. This document will serve as a preliminary agreement and will be subject to further negotiation and execution of a definitive agreement.\\n\\nWe are delighted to move forward with this partnership, and we appreciate your enthusiasm and commitment to our proposed terms. We believe that our collaboration will be mutually beneficial and will help both parties achieve their strategic objectives.\\n\\nPlease be advised that this letter is not intended to create a legally binding obligation between the parties. The terms of our partnership shall be determined by the definitive agreement to be executed by both parties.\\n\\nWe look forward to working closely with you and your team in the coming days. If you have any questions or require any further information, please do not hesitate to reach out to me at [Your Phone Number] or via email at [Your Email Address].\\n\\nThank you for your attention to this matter. We anticipate a fruitful and successful partnership.\\n\\nYours sincerely,\\n\\n[Your Name]\\n[Your Firm's Name]\\n[Your Title]\",\n",
       " 'summary': \"Sarah and Alex have a call to discuss a potential partnership. Sarah is impressed with Alex's pitch and business plan. They discuss the terms of the investment, which includes a $2 million investment for a 20% equity stake and strategic support. They also talk about the expected timeline and the need for due diligence and legal review. Sarah explains that her firm can provide strategic support through their network of industry experts. Alex agrees to the terms and is eager to move forward. Sarah will have her legal team prepare a term sheet and they will be in touch soon.\"}"
      ]
     },
     "execution_count": 3,
     "metadata": {},
     "output_type": "execute_result"
    }
   ],
   "source": [
    "myjson"
   ]
  },
  {
   "cell_type": "code",
   "execution_count": 4,
   "metadata": {},
   "outputs": [
    {
     "data": {
      "text/plain": [
       "\"[Your Name]\\n[Your Address]\\n[City, State, ZIP]\\n[Email Address]\\n[Phone Number]\\n[Date]\\n\\n[Recipient's Name]\\n[Recipient's Address]\\n[City, State, ZIP]\\n\\nSubject: Partnership Investment Agreement\\n\\nDear [Recipient's Name],\\n\\nI hope this letter finds you well. This correspondence serves as an agreement between you, [Alex's Name], and [Sarah's Name], representing [Sarah's Firm], with regard to our potential partnership.\\n\\nFollowing our recent call, during which we discussed your impressive pitch and business plan, we have reached a mutual understanding regarding the terms of the investment and the nature of the partnership. This agreement outlines the key points we discussed and serves as a foundation for our future collaboration.\\n\\n1. Investment:\\nYou have proposed an investment of $2 million, which shall entitle you to a 20% equity stake in the company. This investment will be made in accordance with the terms and conditions set forth in a separate investment agreement, to be prepared by our respective legal teams.\\n\\n2. Strategic Support:\\nIn addition to the financial investment, we have agreed that [Sarah's Firm] shall provide strategic support to your company. This support will be facilitated through our extensive network of industry experts, who will offer their guidance and expertise to assist in the growth and development of your business.\\n\\n3. Timeline and Due Diligence:\\nWe discussed the importance of conducting due diligence and undergoing a comprehensive legal review before finalizing this partnership. To ensure a smooth transition and to address any potential concerns, we agree to proceed with the necessary due diligence procedures promptly. The timeline for this process will be determined in consultation with our respective legal teams.\\n\\n4. Term Sheet:\\nAs discussed, [Sarah's Firm] will prepare a term sheet that outlines the key terms and conditions of our partnership agreement. This document will serve as a preliminary agreement and will be subject to further negotiation and execution of a definitive agreement.\\n\\nWe are delighted to move forward with this partnership, and we appreciate your enthusiasm and commitment to our proposed terms. We believe that our collaboration will be mutually beneficial and will help both parties achieve their strategic objectives.\\n\\nPlease be advised that this letter is not intended to create a legally binding obligation between the parties. The terms of our partnership shall be determined by the definitive agreement to be executed by both parties.\\n\\nWe look forward to working closely with you and your team in the coming days. If you have any questions or require any further information, please do not hesitate to reach out to me at [Your Phone Number] or via email at [Your Email Address].\\n\\nThank you for your attention to this matter. We anticipate a fruitful and successful partnership.\\n\\nYours sincerely,\\n\\n[Your Name]\\n[Your Firm's Name]\\n[Your Title]\""
      ]
     },
     "execution_count": 4,
     "metadata": {},
     "output_type": "execute_result"
    }
   ],
   "source": [
    "myjson['legal_document']"
   ]
  },
  {
   "cell_type": "code",
   "execution_count": 7,
   "metadata": {},
   "outputs": [],
   "source": [
    "from fpdf import FPDF\n",
    "\n",
    "def save_to_pdf(text, filename):\n",
    "    pdf = FPDF()\n",
    "    pdf.add_page()\n",
    "    pdf.set_font(\"Times\", size=12)\n",
    "    pdf.multi_cell(0, 10, text)\n",
    "    pdf.output(filename)\n"
   ]
  },
  {
   "cell_type": "code",
   "execution_count": 8,
   "metadata": {},
   "outputs": [],
   "source": [
    "save_to_pdf(myjson['legal_document'], \"legal_document.pdf\")\n"
   ]
  },
  {
   "cell_type": "code",
   "execution_count": null,
   "metadata": {},
   "outputs": [],
   "source": []
  }
 ],
 "metadata": {
  "kernelspec": {
   "display_name": "Python 3",
   "language": "python",
   "name": "python3"
  },
  "language_info": {
   "codemirror_mode": {
    "name": "ipython",
    "version": 3
   },
   "file_extension": ".py",
   "mimetype": "text/x-python",
   "name": "python",
   "nbconvert_exporter": "python",
   "pygments_lexer": "ipython3",
   "version": "3.9.6"
  }
 },
 "nbformat": 4,
 "nbformat_minor": 2
}
